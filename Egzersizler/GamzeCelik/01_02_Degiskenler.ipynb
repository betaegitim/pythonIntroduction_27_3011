{
 "cells": [
  {
   "cell_type": "markdown",
   "metadata": {},
   "source": [
    "```\n",
    "var1 = 1\n",
    "var2 = 2.0\n",
    "var3 = 2.0 + 3j\n",
    "var4 = \"Garanti\"\n",
    "var5 = [1,2,3,4]\n",
    "var6 = (2,23,2,3)\n",
    "var7 = {\"1\":\"Bir\"}\n",
    "var8 = {2,3,4}\n",
    "var9 = True\n",
    "```\n",
    "Yukarıda bulunan değişken tanımlarından faydalanarak her değişken tipinde kendi değişkeninizi oluşturunuz, `type` fonksiyonu ile oluşturduğunuz değişkenin tipini ekrana yazdırınız"
   ]
  },
  {
   "cell_type": "code",
   "execution_count": null,
   "metadata": {},
   "outputs": [],
   "source": [
    "vTest1 = 7\n",
    "vTest2 = 7.2\n",
    "vTest3 = 7.2 + 1a\n",
    "vTest4 =  \"Egitim\"\n",
    "vTest5 = [6,7,8,9]\n",
    "vTest6 = (1,77,9,5)\n",
    "vTest7 = {\"3\": \"Uc\"}\n",
    "vTest9 = {2023,2024,2025}\n",
    "vTest10 = True\n",
    "\n",
    "\n"
   ]
  },
  {
   "cell_type": "code",
   "execution_count": null,
   "metadata": {},
   "outputs": [],
   "source": [
    "type (vTest1)"
   ]
  },
  {
   "cell_type": "code",
   "execution_count": null,
   "metadata": {},
   "outputs": [],
   "source": [
    "var1= \"Teşekkürler Süpermen\"\n",
    "var1[::-1].replace (\"e\", \"i\",2) [::-1]"
   ]
  }
 ],
 "metadata": {
  "language_info": {
   "name": "python"
  }
 },
 "nbformat": 4,
 "nbformat_minor": 2
}
