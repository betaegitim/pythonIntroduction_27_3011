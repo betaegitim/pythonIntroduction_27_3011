{
 "cells": [
  {
   "cell_type": "markdown",
   "metadata": {},
   "source": [
    "```\n",
    "liste = [398, 286, 319, 51, 156, 98, 201, 249, 160, 218, 53, 378, 368, 216, 110]\n",
    "```\n",
    "yukarıda bulunan liste üzerinde \n",
    "1. büyükten küçüğe doğru sıralama\n",
    "2. en sonra 3000 sayısını ekleme\n",
    "3. ilk başa \"Garanti\" ifadesini ekleme\n",
    "4. listenin ilk 4 elemanını silme\n",
    "işlemlerini sırasıyla gerçekleştirelim. "
   ]
  },
  {
   "cell_type": "code",
   "execution_count": 1,
   "metadata": {},
   "outputs": [
    {
     "name": "stdout",
     "output_type": "stream",
     "text": [
      "[51, 53, 98, 110, 156, 160, 201, 216, 218, 249, 286, 319, 368, 378, 398]\n"
     ]
    }
   ],
   "source": [
    "liste = [398, 286, 319, 51, 156, 98, 201, 249, 160, 218, 53, 378, 368, 216, 110]\n",
    "liste.sort()\n",
    "print (liste)"
   ]
  },
  {
   "cell_type": "code",
   "execution_count": 5,
   "metadata": {},
   "outputs": [
    {
     "name": "stdout",
     "output_type": "stream",
     "text": [
      "['Garanti', 53, 110, 160, 216, 218, 249, 286, 319, 368, 378, 398]\n"
     ]
    }
   ],
   "source": [
    "vYeni= [\"Garanti\"]\n",
    "vYeni.extend(liste)\n",
    "liste=vYeni\n",
    "print(liste)"
   ]
  },
  {
   "cell_type": "code",
   "execution_count": 6,
   "metadata": {},
   "outputs": [
    {
     "name": "stdout",
     "output_type": "stream",
     "text": [
      "[53, 160, 218, 286, 319, 368, 378, 398]\n"
     ]
    }
   ],
   "source": [
    "liste.pop(0)\n",
    "liste.pop(1)\n",
    "liste.pop(2)\n",
    "liste.pop(3)\n",
    "print(liste)"
   ]
  },
  {
   "cell_type": "code",
   "execution_count": 10,
   "metadata": {},
   "outputs": [
    {
     "name": "stdout",
     "output_type": "stream",
     "text": [
      "[53, 160, 218, 286, 319, 368, 378, 398, 3000, 3000]\n"
     ]
    }
   ],
   "source": [
    "liste.append(3000)\n",
    "liste.pop()\n",
    "print(liste)"
   ]
  },
  {
   "cell_type": "code",
   "execution_count": 11,
   "metadata": {},
   "outputs": [
    {
     "name": "stdout",
     "output_type": "stream",
     "text": [
      "[53, 160, 218, 286, 319, 368, 378, 398, 3000]\n"
     ]
    }
   ],
   "source": [
    "liste.pop()\n",
    "print(liste)"
   ]
  }
 ],
 "metadata": {
  "kernelspec": {
   "display_name": "Python 3",
   "language": "python",
   "name": "python3"
  },
  "language_info": {
   "codemirror_mode": {
    "name": "ipython",
    "version": 3
   },
   "file_extension": ".py",
   "mimetype": "text/x-python",
   "name": "python",
   "nbconvert_exporter": "python",
   "pygments_lexer": "ipython3",
   "version": "3.12.0"
  }
 },
 "nbformat": 4,
 "nbformat_minor": 2
}
