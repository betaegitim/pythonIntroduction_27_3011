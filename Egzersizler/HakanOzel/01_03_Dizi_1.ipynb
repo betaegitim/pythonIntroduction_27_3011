{
 "cells": [
  {
   "cell_type": "markdown",
   "metadata": {},
   "source": [
    "```\n",
    "adi = input(\"Adınızı Giriniz:\")\n",
    "```\n",
    "yukarıda bulunan kod bloğunu kullanarak kullanıcıdan `adi` değişkenine aktarılan bir str veri tipindeki değeri\n",
    "1. ilk harfini ekrana yazdırınız\n",
    "2. son harfini ekrana yazdırınız\n",
    "3. format fonksiyonunu kullanarak `Hoşgeldiniz [Adi]` mesajını ekrana yazdırınız\n",
    "4. Büyük harfe çevirip yazdırınız  "
   ]
  },
  {
   "cell_type": "code",
   "execution_count": null,
   "metadata": {},
   "outputs": [],
   "source": [
    "adi = input (\"Ad Girin :\")\n",
    "print(adi[0])\n",
    "print(adi[-1])\n",
    "print()"
   ]
  }
 ],
 "metadata": {
  "language_info": {
   "name": "python"
  }
 },
 "nbformat": 4,
 "nbformat_minor": 2
}
